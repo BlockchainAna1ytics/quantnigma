{
 "cells": [
  {
   "cell_type": "code",
   "execution_count": 23,
   "metadata": {},
   "outputs": [],
   "source": [
    "import numpy as np\n",
    "import pandas as pd\n",
    "import csv\n",
    "import glob"
   ]
  },
  {
   "cell_type": "code",
   "execution_count": 53,
   "metadata": {
    "scrolled": true
   },
   "outputs": [
    {
     "data": {
      "text/html": [
       "<div>\n",
       "<style scoped>\n",
       "    .dataframe tbody tr th:only-of-type {\n",
       "        vertical-align: middle;\n",
       "    }\n",
       "\n",
       "    .dataframe tbody tr th {\n",
       "        vertical-align: top;\n",
       "    }\n",
       "\n",
       "    .dataframe thead th {\n",
       "        text-align: right;\n",
       "    }\n",
       "</style>\n",
       "<table border=\"1\" class=\"dataframe\">\n",
       "  <thead>\n",
       "    <tr style=\"text-align: right;\">\n",
       "      <th></th>\n",
       "      <th>name</th>\n",
       "      <th>symbol</th>\n",
       "      <th>website</th>\n",
       "      <th>github</th>\n",
       "      <th>careers</th>\n",
       "    </tr>\n",
       "  </thead>\n",
       "  <tbody>\n",
       "    <tr>\n",
       "      <th>0</th>\n",
       "      <td>Bitcoin</td>\n",
       "      <td>BTC</td>\n",
       "      <td>https://bitcoin.org/</td>\n",
       "      <td>https://github.com/bitcoin/</td>\n",
       "      <td>NaN</td>\n",
       "    </tr>\n",
       "    <tr>\n",
       "      <th>1</th>\n",
       "      <td>Ethereum</td>\n",
       "      <td>ETH</td>\n",
       "      <td>https://www.ethereum.org/</td>\n",
       "      <td>https://github.com/ethereum</td>\n",
       "      <td>NaN</td>\n",
       "    </tr>\n",
       "    <tr>\n",
       "      <th>2</th>\n",
       "      <td>Ripple</td>\n",
       "      <td>XRP</td>\n",
       "      <td>https://ripple.com/</td>\n",
       "      <td>https://github.com/ripple</td>\n",
       "      <td>https://ripple.com/company/careers/</td>\n",
       "    </tr>\n",
       "    <tr>\n",
       "      <th>3</th>\n",
       "      <td>Bitcoin Cash</td>\n",
       "      <td>BCH</td>\n",
       "      <td>https://www.bitcoincash.org/</td>\n",
       "      <td>https://github.com/bitcoincashorg/</td>\n",
       "      <td>NaN</td>\n",
       "    </tr>\n",
       "    <tr>\n",
       "      <th>4</th>\n",
       "      <td>EOS</td>\n",
       "      <td>EOS</td>\n",
       "      <td>https://eos.io/</td>\n",
       "      <td>https://github.com/eosio</td>\n",
       "      <td>NaN</td>\n",
       "    </tr>\n",
       "  </tbody>\n",
       "</table>\n",
       "</div>"
      ],
      "text/plain": [
       "           name symbol                       website  \\\n",
       "0       Bitcoin    BTC          https://bitcoin.org/   \n",
       "1      Ethereum    ETH     https://www.ethereum.org/   \n",
       "2        Ripple    XRP           https://ripple.com/   \n",
       "3  Bitcoin Cash    BCH  https://www.bitcoincash.org/   \n",
       "4           EOS    EOS               https://eos.io/   \n",
       "\n",
       "                               github                              careers  \n",
       "0         https://github.com/bitcoin/                                  NaN  \n",
       "1         https://github.com/ethereum                                  NaN  \n",
       "2           https://github.com/ripple  https://ripple.com/company/careers/  \n",
       "3  https://github.com/bitcoincashorg/                                  NaN  \n",
       "4            https://github.com/eosio                                  NaN  "
      ]
     },
     "execution_count": 53,
     "metadata": {},
     "output_type": "execute_result"
    }
   ],
   "source": [
    "df = pd.DataFrame([])\n",
    " \n",
    "for file in glob.glob('cmc_web*'):\n",
    "    df_batch = pd.read_csv(file, skiprows=0)\n",
    "    df = df.append(df_batch)\n",
    "# df = df.drop(columns=df.columns[0])\n",
    "df.to_csv('cmc_web_compiled.csv', index=False)\n",
    "df.head()"
   ]
  },
  {
   "cell_type": "code",
   "execution_count": 57,
   "metadata": {},
   "outputs": [],
   "source": [
    "df1 = pd.read_csv('cmc_api.csv', skiprows=0)\n",
    "df2 = pd.read_csv('cmc_web_compiled.csv', skiprows=0)\n",
    "df3 = df2.merge(df1, on=['symbol', 'name'], how='outer')\n",
    "df3.to_csv(\"cmc_final.csv\",index=False)"
   ]
  },
  {
   "cell_type": "code",
   "execution_count": 58,
   "metadata": {},
   "outputs": [
    {
     "data": {
      "text/plain": [
       "1726"
      ]
     },
     "execution_count": 58,
     "metadata": {},
     "output_type": "execute_result"
    }
   ],
   "source": [
    "len(df3)"
   ]
  },
  {
   "cell_type": "code",
   "execution_count": null,
   "metadata": {},
   "outputs": [],
   "source": []
  }
 ],
 "metadata": {
  "kernelspec": {
   "display_name": "Python 3",
   "language": "python",
   "name": "python3"
  },
  "language_info": {
   "codemirror_mode": {
    "name": "ipython",
    "version": 3
   },
   "file_extension": ".py",
   "mimetype": "text/x-python",
   "name": "python",
   "nbconvert_exporter": "python",
   "pygments_lexer": "ipython3",
   "version": "3.6.4"
  }
 },
 "nbformat": 4,
 "nbformat_minor": 2
}
